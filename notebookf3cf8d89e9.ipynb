{
  "metadata": {
    "kernelspec": {
      "language": "python",
      "display_name": "Python 3",
      "name": "python3"
    },
    "language_info": {
      "pygments_lexer": "ipython3",
      "nbconvert_exporter": "python",
      "version": "3.6.4",
      "file_extension": ".py",
      "codemirror_mode": {
        "name": "ipython",
        "version": 3
      },
      "name": "python",
      "mimetype": "text/x-python"
    },
    "colab": {
      "name": "notebookf3cf8d89e9",
      "provenance": [],
      "include_colab_link": true
    }
  },
  "nbformat_minor": 0,
  "nbformat": 4,
  "cells": [
    {
      "cell_type": "markdown",
      "metadata": {
        "id": "view-in-github",
        "colab_type": "text"
      },
      "source": [
        "<a href=\"https://colab.research.google.com/github/bhav-in/AURIX_code_examples/blob/master/notebookf3cf8d89e9.ipynb\" target=\"_parent\"><img src=\"https://colab.research.google.com/assets/colab-badge.svg\" alt=\"Open In Colab\"/></a>"
      ]
    },
    {
      "source": [
        "\n",
        "# IMPORTANT: RUN THIS CELL IN ORDER TO IMPORT YOUR KAGGLE DATA SOURCES\n",
        "# TO THE CORRECT LOCATION (/kaggle/input) IN YOUR NOTEBOOK,\n",
        "# THEN FEEL FREE TO DELETE THIS CELL.\n",
        "# NOTE: THIS NOTEBOOK ENVIRONMENT DIFFERS FROM KAGGLE'S PYTHON\n",
        "# ENVIRONMENT SO THERE MAY BE MISSING LIBRARIES USED BY YOUR\n",
        "# NOTEBOOK.\n",
        "\n",
        "import os\n",
        "import sys\n",
        "from tempfile import NamedTemporaryFile\n",
        "from urllib.request import urlopen\n",
        "from urllib.parse import unquote, urlparse\n",
        "from urllib.error import HTTPError\n",
        "from zipfile import ZipFile\n",
        "import tarfile\n",
        "import shutil\n",
        "\n",
        "CHUNK_SIZE = 40960\n",
        "DATA_SOURCE_MAPPING = 'higher-education-students-performance-evaluation:https%3A%2F%2Fstorage.googleapis.com%2Fkaggle-data-sets%2F1811753%2F2955046%2Fbundle%2Farchive.zip%3FX-Goog-Algorithm%3DGOOG4-RSA-SHA256%26X-Goog-Credential%3Dgcp-kaggle-com%2540kaggle-161607.iam.gserviceaccount.com%252F20240410%252Fauto%252Fstorage%252Fgoog4_request%26X-Goog-Date%3D20240410T193925Z%26X-Goog-Expires%3D259200%26X-Goog-SignedHeaders%3Dhost%26X-Goog-Signature%3D0a2ee926714dbd7662f607d7171ee00d68e48f87b40555007bce251348fba8b983205bc1daf0cc7e58b1ab1866074905c7eaa017162406aca4ed8d1962c8f2468fc9f2d5b768b968f21f18298dd971aab63a161ca18bac4f6df5684427cf8707fe53848cbf7d4344e006c5b00ee9486f6a7226e05dfa6a340cc3084d9890a3dddba1c6353f96ec89b92906e8d155088928c97edd629d69dfc2ab6924dd959c8e9fed2df60d3522167fbc224de72d6585a9dd22a6b850004bd6e196e545741509b49a167c0b4aad6439b9cccf4815f8e722ef770e9ff4edcb24c064cbcb351c6ae95a1adc33f811065e0e0098261b501e7c61016d7283cc243248fe5eb3973471'\n",
        "\n",
        "KAGGLE_INPUT_PATH='/kaggle/input'\n",
        "KAGGLE_WORKING_PATH='/kaggle/working'\n",
        "KAGGLE_SYMLINK='kaggle'\n",
        "\n",
        "!umount /kaggle/input/ 2> /dev/null\n",
        "shutil.rmtree('/kaggle/input', ignore_errors=True)\n",
        "os.makedirs(KAGGLE_INPUT_PATH, 0o777, exist_ok=True)\n",
        "os.makedirs(KAGGLE_WORKING_PATH, 0o777, exist_ok=True)\n",
        "\n",
        "try:\n",
        "  os.symlink(KAGGLE_INPUT_PATH, os.path.join(\"..\", 'input'), target_is_directory=True)\n",
        "except FileExistsError:\n",
        "  pass\n",
        "try:\n",
        "  os.symlink(KAGGLE_WORKING_PATH, os.path.join(\"..\", 'working'), target_is_directory=True)\n",
        "except FileExistsError:\n",
        "  pass\n",
        "\n",
        "for data_source_mapping in DATA_SOURCE_MAPPING.split(','):\n",
        "    directory, download_url_encoded = data_source_mapping.split(':')\n",
        "    download_url = unquote(download_url_encoded)\n",
        "    filename = urlparse(download_url).path\n",
        "    destination_path = os.path.join(KAGGLE_INPUT_PATH, directory)\n",
        "    try:\n",
        "        with urlopen(download_url) as fileres, NamedTemporaryFile() as tfile:\n",
        "            total_length = fileres.headers['content-length']\n",
        "            print(f'Downloading {directory}, {total_length} bytes compressed')\n",
        "            dl = 0\n",
        "            data = fileres.read(CHUNK_SIZE)\n",
        "            while len(data) > 0:\n",
        "                dl += len(data)\n",
        "                tfile.write(data)\n",
        "                done = int(50 * dl / int(total_length))\n",
        "                sys.stdout.write(f\"\\r[{'=' * done}{' ' * (50-done)}] {dl} bytes downloaded\")\n",
        "                sys.stdout.flush()\n",
        "                data = fileres.read(CHUNK_SIZE)\n",
        "            if filename.endswith('.zip'):\n",
        "              with ZipFile(tfile) as zfile:\n",
        "                zfile.extractall(destination_path)\n",
        "            else:\n",
        "              with tarfile.open(tfile.name) as tarfile:\n",
        "                tarfile.extractall(destination_path)\n",
        "            print(f'\\nDownloaded and uncompressed: {directory}')\n",
        "    except HTTPError as e:\n",
        "        print(f'Failed to load (likely expired) {download_url} to path {destination_path}')\n",
        "        continue\n",
        "    except OSError as e:\n",
        "        print(f'Failed to load {download_url} to path {destination_path}')\n",
        "        continue\n",
        "\n",
        "print('Data source import complete.')\n"
      ],
      "metadata": {
        "id": "pZgLzC_0hlkZ"
      },
      "cell_type": "code",
      "outputs": [],
      "execution_count": null
    },
    {
      "cell_type": "code",
      "source": [
        "# This Python 3 environment comes with many helpful analytics libraries installed\n",
        "# It is defined by the kaggle/python Docker image: https://github.com/kaggle/docker-python\n",
        "# For example, here's several helpful packages to load\n",
        "\n",
        "import numpy as np # linear algebra\n",
        "import pandas as pd # data processing, CSV file I/O (e.g. pd.read_csv)\n",
        "\n",
        "# Input data files are available in the read-only \"../input/\" directory\n",
        "# For example, running this (by clicking run or pressing Shift+Enter) will list all files under the input directory\n",
        "\n",
        "import os\n",
        "for dirname, _, filenames in os.walk('/kaggle/input'):\n",
        "    for filename in filenames:\n",
        "        print(os.path.join(dirname, filename))\n",
        "\n",
        "# You can write up to 20GB to the current directory (/kaggle/working/) that gets preserved as output when you create a version using \"Save & Run All\"\n",
        "# You can also write temporary files to /kaggle/temp/, but they won't be saved outside of the current session"
      ],
      "metadata": {
        "_uuid": "8f2839f25d086af736a60e9eeb907d3b93b6e0e5",
        "_cell_guid": "b1076dfc-b9ad-4769-8c92-a6c4dae69d19",
        "execution": {
          "iopub.status.busy": "2022-02-21T11:44:50.794308Z",
          "iopub.execute_input": "2022-02-21T11:44:50.794562Z",
          "iopub.status.idle": "2022-02-21T11:44:50.810923Z",
          "shell.execute_reply.started": "2022-02-21T11:44:50.794535Z",
          "shell.execute_reply": "2022-02-21T11:44:50.810313Z"
        },
        "trusted": true,
        "id": "oquqVsCwhlkd"
      },
      "execution_count": null,
      "outputs": []
    },
    {
      "cell_type": "code",
      "source": [
        "import matplotlib.pyplot as plt\n",
        "import seaborn as sns\n",
        "\n",
        "from sklearn.cluster import KMeans\n",
        "\n",
        "from sklearn.naive_bayes import GaussianNB\n",
        "from sklearn.tree import DecisionTreeClassifier as dtc\n",
        "from sklearn.ensemble import RandomForestClassifier\n",
        "from sklearn.neighbors import KNeighborsClassifier\n",
        "from sklearn.svm import SVC\n",
        "\n",
        "from sklearn.metrics import confusion_matrix\n",
        "from sklearn.metrics import classification_report\n",
        "from sklearn.model_selection import cross_val_predict\n",
        "from sklearn.model_selection import train_test_split\n",
        "from sklearn.feature_selection import mutual_info_classif"
      ],
      "metadata": {
        "execution": {
          "iopub.status.busy": "2022-02-21T12:21:04.232168Z",
          "iopub.execute_input": "2022-02-21T12:21:04.232451Z",
          "iopub.status.idle": "2022-02-21T12:21:04.260571Z",
          "shell.execute_reply.started": "2022-02-21T12:21:04.232418Z",
          "shell.execute_reply": "2022-02-21T12:21:04.259877Z"
        },
        "trusted": true,
        "id": "-kgq1e8Whlke"
      },
      "execution_count": null,
      "outputs": []
    },
    {
      "cell_type": "code",
      "source": [
        "df = pd.read_csv(\"../input/higher-education-students-performance-evaluation/student_prediction.csv\")"
      ],
      "metadata": {
        "execution": {
          "iopub.status.busy": "2022-02-21T11:45:04.735411Z",
          "iopub.execute_input": "2022-02-21T11:45:04.735693Z",
          "iopub.status.idle": "2022-02-21T11:45:04.755348Z",
          "shell.execute_reply.started": "2022-02-21T11:45:04.735663Z",
          "shell.execute_reply": "2022-02-21T11:45:04.754761Z"
        },
        "trusted": true,
        "id": "3AwX_YQshlke"
      },
      "execution_count": null,
      "outputs": []
    },
    {
      "cell_type": "code",
      "source": [
        "df.head()"
      ],
      "metadata": {
        "execution": {
          "iopub.status.busy": "2022-02-21T11:48:52.206632Z",
          "iopub.execute_input": "2022-02-21T11:48:52.206928Z",
          "iopub.status.idle": "2022-02-21T11:48:52.223828Z",
          "shell.execute_reply.started": "2022-02-21T11:48:52.206894Z",
          "shell.execute_reply": "2022-02-21T11:48:52.223071Z"
        },
        "trusted": true,
        "id": "PmRzwHyohlkf"
      },
      "execution_count": null,
      "outputs": []
    },
    {
      "cell_type": "code",
      "source": [
        "df.info()"
      ],
      "metadata": {
        "execution": {
          "iopub.status.busy": "2022-02-21T11:48:50.117931Z",
          "iopub.execute_input": "2022-02-21T11:48:50.118202Z",
          "iopub.status.idle": "2022-02-21T11:48:50.135705Z",
          "shell.execute_reply.started": "2022-02-21T11:48:50.118175Z",
          "shell.execute_reply": "2022-02-21T11:48:50.134892Z"
        },
        "trusted": true,
        "id": "DzWTayQ1hlkf"
      },
      "execution_count": null,
      "outputs": []
    },
    {
      "cell_type": "code",
      "source": [
        "df.shape"
      ],
      "metadata": {
        "execution": {
          "iopub.status.busy": "2022-02-21T11:49:01.908231Z",
          "iopub.execute_input": "2022-02-21T11:49:01.909088Z",
          "iopub.status.idle": "2022-02-21T11:49:01.914722Z",
          "shell.execute_reply.started": "2022-02-21T11:49:01.909033Z",
          "shell.execute_reply": "2022-02-21T11:49:01.91395Z"
        },
        "trusted": true,
        "id": "jfmIc9WRhlkg"
      },
      "execution_count": null,
      "outputs": []
    },
    {
      "cell_type": "code",
      "source": [
        "df.describe().T.style.background_gradient(cmap = \"Oranges\")"
      ],
      "metadata": {
        "execution": {
          "iopub.status.busy": "2022-02-21T11:45:22.675659Z",
          "iopub.execute_input": "2022-02-21T11:45:22.676218Z",
          "iopub.status.idle": "2022-02-21T11:45:22.760251Z",
          "shell.execute_reply.started": "2022-02-21T11:45:22.676182Z",
          "shell.execute_reply": "2022-02-21T11:45:22.75946Z"
        },
        "trusted": true,
        "id": "iWFe4n2hhlkg"
      },
      "execution_count": null,
      "outputs": []
    },
    {
      "cell_type": "markdown",
      "source": [
        "* all feature is categorical\n",
        "* COURSE ID and GRADE have high std\n",
        "* No missing value"
      ],
      "metadata": {
        "id": "9WF6n8M_hlkh"
      }
    },
    {
      "cell_type": "code",
      "source": [
        "#look the unique value from Course ID\n",
        "df[\"COURSE ID\"].unique()"
      ],
      "metadata": {
        "execution": {
          "iopub.status.busy": "2022-02-21T11:56:38.915539Z",
          "iopub.execute_input": "2022-02-21T11:56:38.91593Z",
          "iopub.status.idle": "2022-02-21T11:56:38.921958Z",
          "shell.execute_reply.started": "2022-02-21T11:56:38.915893Z",
          "shell.execute_reply": "2022-02-21T11:56:38.921114Z"
        },
        "trusted": true,
        "id": "MJfhg61phlki"
      },
      "execution_count": null,
      "outputs": []
    },
    {
      "cell_type": "code",
      "source": [
        "df.describe(include=object)"
      ],
      "metadata": {
        "execution": {
          "iopub.status.busy": "2022-02-21T11:55:08.529838Z",
          "iopub.execute_input": "2022-02-21T11:55:08.530122Z",
          "iopub.status.idle": "2022-02-21T11:55:08.542785Z",
          "shell.execute_reply.started": "2022-02-21T11:55:08.530094Z",
          "shell.execute_reply": "2022-02-21T11:55:08.541853Z"
        },
        "trusted": true,
        "id": "3vBEk5Ebhlki"
      },
      "execution_count": null,
      "outputs": []
    },
    {
      "cell_type": "code",
      "source": [
        "#drop feature that have unique value\n",
        "df = df.drop('STUDENTID', axis=1)"
      ],
      "metadata": {
        "execution": {
          "iopub.status.busy": "2022-02-21T12:00:25.093726Z",
          "iopub.execute_input": "2022-02-21T12:00:25.094631Z",
          "iopub.status.idle": "2022-02-21T12:00:25.099376Z",
          "shell.execute_reply.started": "2022-02-21T12:00:25.09459Z",
          "shell.execute_reply": "2022-02-21T12:00:25.098385Z"
        },
        "trusted": true,
        "id": "FxuYIg4thlki"
      },
      "execution_count": null,
      "outputs": []
    },
    {
      "cell_type": "code",
      "source": [
        "#check duplicate\n",
        "duplicate = df[df.duplicated()]\n",
        "print(\"Duplicate Rows :\")\n",
        "duplicate"
      ],
      "metadata": {
        "execution": {
          "iopub.status.busy": "2022-02-21T12:12:26.702733Z",
          "iopub.execute_input": "2022-02-21T12:12:26.703295Z",
          "iopub.status.idle": "2022-02-21T12:12:26.718679Z",
          "shell.execute_reply.started": "2022-02-21T12:12:26.70326Z",
          "shell.execute_reply": "2022-02-21T12:12:26.717891Z"
        },
        "trusted": true,
        "id": "-CbITWWMhlkj"
      },
      "execution_count": null,
      "outputs": []
    },
    {
      "cell_type": "code",
      "source": [
        "sns.countplot(df['GRADE'],label=\"Count\")\n",
        "plt.show()"
      ],
      "metadata": {
        "execution": {
          "iopub.status.busy": "2022-02-21T12:15:38.938555Z",
          "iopub.execute_input": "2022-02-21T12:15:38.938849Z",
          "iopub.status.idle": "2022-02-21T12:15:39.156609Z",
          "shell.execute_reply.started": "2022-02-21T12:15:38.938801Z",
          "shell.execute_reply": "2022-02-21T12:15:39.155718Z"
        },
        "trusted": true,
        "id": "BugRlAEwhlkj"
      },
      "execution_count": null,
      "outputs": []
    },
    {
      "cell_type": "markdown",
      "source": [
        "#Feature Selection"
      ],
      "metadata": {
        "id": "uW8meutDhlkj"
      }
    },
    {
      "cell_type": "code",
      "source": [
        "X = df.drop('GRADE', axis=1)\n",
        "y = df['GRADE']\n",
        "\n",
        "# list discrete features that have integer dtypes for using MI (Mutual Information)\n",
        "discrete_features = X.dtypes == int"
      ],
      "metadata": {
        "execution": {
          "iopub.status.busy": "2022-02-21T12:13:37.334709Z",
          "iopub.execute_input": "2022-02-21T12:13:37.33501Z",
          "iopub.status.idle": "2022-02-21T12:13:37.34162Z",
          "shell.execute_reply.started": "2022-02-21T12:13:37.334978Z",
          "shell.execute_reply": "2022-02-21T12:13:37.34078Z"
        },
        "trusted": true,
        "id": "00sCxh2bhlkj"
      },
      "execution_count": null,
      "outputs": []
    },
    {
      "cell_type": "code",
      "source": [
        "def make_mi_scores(X, y, discrete_features):\n",
        "    mi_scores = mutual_info_classif(X, y, discrete_features=discrete_features)\n",
        "    mi_scores = pd.Series(mi_scores, name=\"MI Scores\", index=X.columns)\n",
        "    mi_scores = mi_scores.sort_values(ascending=False)\n",
        "    return mi_scores\n",
        "\n",
        "mi_scores = make_mi_scores(X, y, discrete_features)\n",
        "mi_scores  # show a few features with their MI scores"
      ],
      "metadata": {
        "execution": {
          "iopub.status.busy": "2022-02-21T12:14:49.676635Z",
          "iopub.execute_input": "2022-02-21T12:14:49.677198Z",
          "iopub.status.idle": "2022-02-21T12:14:49.725081Z",
          "shell.execute_reply.started": "2022-02-21T12:14:49.677148Z",
          "shell.execute_reply": "2022-02-21T12:14:49.723906Z"
        },
        "trusted": true,
        "id": "YLCcxdvFhlkj"
      },
      "execution_count": null,
      "outputs": []
    },
    {
      "cell_type": "code",
      "source": [
        "def drop_uninformative(df, mi_scores):\n",
        "    return df.loc[:, mi_scores > 0]\n",
        "\n",
        "X = drop_uninformative(X, mi_scores)"
      ],
      "metadata": {
        "execution": {
          "iopub.status.busy": "2022-02-21T12:19:45.657668Z",
          "iopub.execute_input": "2022-02-21T12:19:45.657991Z",
          "iopub.status.idle": "2022-02-21T12:19:45.664464Z",
          "shell.execute_reply.started": "2022-02-21T12:19:45.657954Z",
          "shell.execute_reply": "2022-02-21T12:19:45.663492Z"
        },
        "trusted": true,
        "id": "6QFqKkRjhlkj"
      },
      "execution_count": null,
      "outputs": []
    },
    {
      "cell_type": "markdown",
      "source": [
        "#Clustering"
      ],
      "metadata": {
        "id": "zSTGnqzghlkk"
      }
    },
    {
      "cell_type": "code",
      "source": [
        "kmeans = KMeans(n_clusters=8, random_state=0)\n",
        "X[\"Cluster\"] = kmeans.fit_predict(X)"
      ],
      "metadata": {
        "execution": {
          "iopub.status.busy": "2022-02-21T12:22:38.063107Z",
          "iopub.execute_input": "2022-02-21T12:22:38.063404Z",
          "iopub.status.idle": "2022-02-21T12:22:38.124221Z",
          "shell.execute_reply.started": "2022-02-21T12:22:38.063371Z",
          "shell.execute_reply": "2022-02-21T12:22:38.123388Z"
        },
        "trusted": true,
        "id": "8WMxOrJthlkk"
      },
      "execution_count": null,
      "outputs": []
    },
    {
      "cell_type": "markdown",
      "source": [
        "#Model Building"
      ],
      "metadata": {
        "id": "WUyqqZ7rhlkk"
      }
    },
    {
      "cell_type": "code",
      "source": [
        "decision_tree = dtc(random_state=0)\n",
        "decision_tree.fit(X,y)\n",
        "\n",
        "predict = cross_val_predict(estimator = decision_tree, X = X, y = y, cv = 5)\n",
        "print(\"Classification Report: \\n\",classification_report(y, predict))\n"
      ],
      "metadata": {
        "execution": {
          "iopub.status.busy": "2022-02-21T12:22:41.68819Z",
          "iopub.execute_input": "2022-02-21T12:22:41.688973Z",
          "iopub.status.idle": "2022-02-21T12:22:41.733461Z",
          "shell.execute_reply.started": "2022-02-21T12:22:41.688923Z",
          "shell.execute_reply": "2022-02-21T12:22:41.732863Z"
        },
        "trusted": true,
        "id": "Fj94Q_yahlkk"
      },
      "execution_count": null,
      "outputs": []
    },
    {
      "cell_type": "code",
      "source": [
        "random_forest = RandomForestClassifier(random_state = 0)\n",
        "random_forest.fit(X, y)\n",
        "predict = cross_val_predict(estimator = random_forest, X = X, y = y, cv = 5)\n",
        "print(\"Classification Report: \\n\",classification_report(y, predict))"
      ],
      "metadata": {
        "execution": {
          "iopub.status.busy": "2022-02-21T12:22:58.693695Z",
          "iopub.execute_input": "2022-02-21T12:22:58.69435Z",
          "iopub.status.idle": "2022-02-21T12:22:59.570765Z",
          "shell.execute_reply.started": "2022-02-21T12:22:58.69431Z",
          "shell.execute_reply": "2022-02-21T12:22:59.570205Z"
        },
        "trusted": true,
        "id": "1cYmJ4FRhlkk"
      },
      "execution_count": null,
      "outputs": []
    },
    {
      "cell_type": "code",
      "source": [
        "knn = KNeighborsClassifier()\n",
        "knn.fit(X,y)\n",
        "predict = cross_val_predict(estimator = knn, X = X, y = y, cv = 5)\n",
        "print(\"Classification Report: \\n\",classification_report(y, predict))"
      ],
      "metadata": {
        "execution": {
          "iopub.status.busy": "2022-02-21T12:23:11.421415Z",
          "iopub.execute_input": "2022-02-21T12:23:11.422149Z",
          "iopub.status.idle": "2022-02-21T12:23:11.471909Z",
          "shell.execute_reply.started": "2022-02-21T12:23:11.422109Z",
          "shell.execute_reply": "2022-02-21T12:23:11.471135Z"
        },
        "trusted": true,
        "id": "if6QtMK8hlkk"
      },
      "execution_count": null,
      "outputs": []
    },
    {
      "cell_type": "code",
      "source": [
        "gnb = GaussianNB()\n",
        "gnb.fit(X,y)\n",
        "predict = cross_val_predict(estimator = gnb, X = X, y = y, cv = 5)\n",
        "print(\"Classification Report: \\n\",classification_report(y, predict))"
      ],
      "metadata": {
        "execution": {
          "iopub.status.busy": "2022-02-21T12:23:21.382232Z",
          "iopub.execute_input": "2022-02-21T12:23:21.382963Z",
          "iopub.status.idle": "2022-02-21T12:23:21.425706Z",
          "shell.execute_reply.started": "2022-02-21T12:23:21.382922Z",
          "shell.execute_reply": "2022-02-21T12:23:21.424903Z"
        },
        "trusted": true,
        "id": "OVYnwvKOhlkk"
      },
      "execution_count": null,
      "outputs": []
    },
    {
      "cell_type": "code",
      "source": [
        "scv = SVC()\n",
        "scv.fit(X,y)\n",
        "predict = cross_val_predict(estimator = scv, X = X, y = y, cv = 5)\n",
        "print(\"Classification Report: \\n\",classification_report(y, predict))"
      ],
      "metadata": {
        "execution": {
          "iopub.status.busy": "2022-02-21T12:23:37.045677Z",
          "iopub.execute_input": "2022-02-21T12:23:37.046248Z",
          "iopub.status.idle": "2022-02-21T12:23:37.099575Z",
          "shell.execute_reply.started": "2022-02-21T12:23:37.046211Z",
          "shell.execute_reply": "2022-02-21T12:23:37.09877Z"
        },
        "trusted": true,
        "id": "orJcC-Achlkk"
      },
      "execution_count": null,
      "outputs": []
    }
  ]
}